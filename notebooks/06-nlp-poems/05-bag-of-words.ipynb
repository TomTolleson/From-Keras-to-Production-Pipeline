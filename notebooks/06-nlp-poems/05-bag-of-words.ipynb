{
 "cells": [
  {
   "cell_type": "markdown",
   "metadata": {},
   "source": [
    "# Classification with bag-of-word statistics"
   ]
  },
  {
   "cell_type": "markdown",
   "metadata": {},
   "source": [
    "Finally, let us try to classify our poems with bag-of-word statistics."
   ]
  },
  {
   "cell_type": "markdown",
   "metadata": {},
   "source": [
    "## Extracting word statistics with `Tokenizer`"
   ]
  },
  {
   "cell_type": "markdown",
   "metadata": {},
   "source": [
    "We already used the `Tokenizer` class from the `keras.preprocessing.text` module to transform text into sequences of word indices. But one can also use the method `texts_to_matrix` of this class to extract word statistics as follows:"
   ]
  },
  {
   "cell_type": "code",
   "execution_count": null,
   "metadata": {},
   "outputs": [],
   "source": [
    "import pandas as pd\n",
    "from keras.preprocessing.text import Tokenizer\n",
    "\n",
    "texts = [\"Wenn Fliegen hinter Fliegen fliegen\", \"Fliegen Fliegen Fliegen nach\"]\n",
    "tokenizer = Tokenizer()\n",
    "tokenizer.fit_on_texts(texts)\n",
    "tokenizer.texts_to_matrix(texts, mode='binary')"
   ]
  },
  {
   "cell_type": "markdown",
   "metadata": {},
   "source": [
    "The `mode` argument selects the statistics and can take several values:"
   ]
  },
  {
   "cell_type": "code",
   "execution_count": null,
   "metadata": {},
   "outputs": [],
   "source": [
    "vocab = list(tokenizer.word_index)\n",
    "\n",
    "for mode in ['binary', 'count', 'freq', 'tfidf']:\n",
    "    print(f'\\n===== Statistics: {mode} =====\\n')\n",
    "    stats = tokenizer.texts_to_matrix(texts, mode)[:,1:].tolist()\n",
    "    print(pd.DataFrame.from_records(stats, columns=vocab, index=texts))"
   ]
  },
  {
   "cell_type": "markdown",
   "metadata": {},
   "source": [
    "Alternatively, one can use the `preprocessing` module of the `scikit-learn` library to extract these statistics. "
   ]
  },
  {
   "cell_type": "markdown",
   "metadata": {},
   "source": [
    "## Exercise: Classification using word statistics"
   ]
  },
  {
   "cell_type": "markdown",
   "metadata": {},
   "source": [
    "Try to use one of these word statistics as an input to a dense neural network for classifying our poems!"
   ]
  },
  {
   "cell_type": "markdown",
   "metadata": {},
   "source": [
    "### Useful code from previous notebooks"
   ]
  },
  {
   "cell_type": "markdown",
   "metadata": {},
   "source": [
    "Here are some helpful functions:"
   ]
  },
  {
   "cell_type": "code",
   "execution_count": null,
   "metadata": {},
   "outputs": [],
   "source": [
    "import numpy as np\n",
    "import pandas as pd\n",
    "\n",
    "EXTRACT = 'selected_poems.json.bz2'\n",
    "ALPHABET = 'abcdefghijklmnopqrstuvwxyzäöüßABCDEFGHIKLMNOPQRSTUVWXZYÄÖÜ .,;:!?-()\"\\'\\n'\n",
    "\n",
    "def clean_text(text):\n",
    "    return ''.join([char for char in text if char in ALPHABET])\n",
    "\n",
    "poems = pd.read_json(EXTRACT, compression='infer')\n",
    "poems['cleaned_text'] = poems.text.apply(clean_text)"
   ]
  },
  {
   "cell_type": "code",
   "execution_count": null,
   "metadata": {},
   "outputs": [],
   "source": [
    "from sklearn.model_selection import train_test_split\n",
    "\n",
    "def data_from_column(column_name, max_len, train_ratio=0.7):\n",
    "    if max_len is None:\n",
    "        X = poems[column_name].values\n",
    "    else:\n",
    "        X = pad_sequences(poems[column_name], max_len)\n",
    "    authors_ohe = pd.get_dummies(poems['author'])\n",
    "    y = authors_ohe.values\n",
    "    short_authors = [author.split(',')[0] for author in authors_ohe.columns]\n",
    "    return train_test_split(X, y, train_size=train_ratio), short_authors"
   ]
  },
  {
   "cell_type": "code",
   "execution_count": null,
   "metadata": {},
   "outputs": [],
   "source": [
    "from keras import Sequential\n",
    "from keras.layers import Dense\n",
    "\n",
    "def train_model(model, epochs=5, batch_size=8):\n",
    "    model.compile(loss='categorical_crossentropy', metrics=['accuracy'], optimizer='Adadelta')\n",
    "    history = model.fit(X_train,y_train, epochs=epochs, batch_size=batch_size, validation_split=0.2)\n",
    "    return model, pd.DataFrame(history.history)"
   ]
  },
  {
   "cell_type": "markdown",
   "metadata": {},
   "source": [
    "### Your solution here!"
   ]
  },
  {
   "cell_type": "code",
   "execution_count": null,
   "metadata": {},
   "outputs": [],
   "source": []
  }
 ],
 "metadata": {
  "kernelspec": {
   "display_name": "nlp-basics",
   "language": "python",
   "name": "nlp-basics"
  },
  "language_info": {
   "codemirror_mode": {
    "name": "ipython",
    "version": 3
   },
   "file_extension": ".py",
   "mimetype": "text/x-python",
   "name": "python",
   "nbconvert_exporter": "python",
   "pygments_lexer": "ipython3",
   "version": "3.7.3"
  }
 },
 "nbformat": 4,
 "nbformat_minor": 4
}
