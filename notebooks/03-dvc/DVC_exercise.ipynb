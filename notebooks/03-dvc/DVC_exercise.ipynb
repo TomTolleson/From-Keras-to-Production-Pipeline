{
 "cells": [
  {
   "cell_type": "markdown",
   "metadata": {},
   "source": [
    "# Task: Build a simple pipeline with DVC"
   ]
  },
  {
   "cell_type": "markdown",
   "metadata": {},
   "source": [
    "In this task we want to build a simple DVC pipeline. The elements of the pipeline will classify images into either *lemons* or *bananas*.\n",
    "\n",
    "The pipelines consists of 2 python functions and one shell command for deployment:\n",
    "\n",
    "1. `preprocess(inputpath, outputpath)`, that processes images (convert to grayscale, resize to (100, 100)). `inputpath` is the location of the input image, and `outputpath` the location of the preprocessed image. \n",
    "2. `classify(inputpath, outputpath)`, that classifies images and write the results into a JSON file. `inputpath` is the location of the preprocessed image, and `outputpath` the location of the JSON file.\n",
    "3. `\"cat deployment_location | xargs -I% cp jsonfile %\"`. `deployment_location` is a file containing the location we want to deploy to, and `jsonfile` should be the location of the JSON file.\n",
    "\n",
    "We have already provided the python functions for you. You can find them in the file `DVC_exercise.py`. Your mission is to wrap a pipeline around them using DVC.\n",
    "\n",
    "You can call the functions from the shell via `python <file> <function name> <input params>`.\n",
    "\n",
    "Remember that you can run shell commands in a Jupyter notebook by starting a line in a cell with `!` or putting `%%sh` at the beginning of a cell."
   ]
  },
  {
   "cell_type": "markdown",
   "metadata": {},
   "source": [
    "#### Initialise DVC\n",
    "\n",
    "Please use `--no-scm` to avoid problems with this git repository."
   ]
  },
  {
   "cell_type": "code",
   "execution_count": 64,
   "metadata": {},
   "outputs": [
    {
     "name": "stdout",
     "output_type": "stream",
     "text": [
      "\u001b[31m+---------------------------------------------------------------------+\n",
      "\u001b[39m\u001b[31m|\u001b[39m                                                                     \u001b[31m|\u001b[39m\n",
      "\u001b[31m|\u001b[39m        DVC has enabled anonymous aggregate usage analytics.         \u001b[31m|\u001b[39m\n",
      "\u001b[31m|\u001b[39m     Read the analytics documentation (and how to opt-out) here:     \u001b[31m|\u001b[39m\n",
      "\u001b[31m|\u001b[39m              \u001b[34mhttps://dvc.org/doc/user-guide/analytics\u001b[39m               \u001b[31m|\u001b[39m\n",
      "\u001b[31m|\u001b[39m                                                                     \u001b[31m|\u001b[39m\n",
      "\u001b[31m+---------------------------------------------------------------------+\n",
      "\u001b[39m\n",
      "\u001b[33mWhat's next?\u001b[39m\n",
      "\u001b[33m------------\u001b[39m\n",
      "- Check out the documentation: \u001b[34mhttps://dvc.org/doc\u001b[39m\n",
      "- Get help and share ideas: \u001b[34mhttps://dvc.org/chat\u001b[39m\n",
      "- Star us on GitHub: \u001b[34mhttps://github.com/iterative/dvc\u001b[39m\n",
      "\u001b[0m"
     ]
    }
   ],
   "source": [
    "!dvc init -f --no-scm"
   ]
  },
  {
   "cell_type": "markdown",
   "metadata": {},
   "source": [
    "#### Define first pipeline stage"
   ]
  },
  {
   "cell_type": "code",
   "execution_count": 65,
   "metadata": {},
   "outputs": [
    {
     "name": "stdout",
     "output_type": "stream",
     "text": [
      "Running command:\n",
      "\tpython DVC_exercise.py preprocess exercise-dataset-dvc/image.jpg preprocessed.jpg\n",
      "Saving 'preprocessed.jpg' to '.dvc/cache/9b/e73f582255331b84c3de936f6cc8f8'.\n",
      "Saving information to 'preprocess.dvc'.\n",
      "\u001b[0m"
     ]
    }
   ],
   "source": [
    "!dvc run -f preprocess.dvc -d DVC_exercise.py -d exercise-dataset-dvc/image.jpg -o preprocessed.jpg \\\n",
    "         python DVC_exercise.py preprocess exercise-dataset-dvc/image.jpg preprocessed.jpg"
   ]
  },
  {
   "cell_type": "markdown",
   "metadata": {},
   "source": [
    "#### Define second pipeline stage"
   ]
  },
  {
   "cell_type": "code",
   "execution_count": 66,
   "metadata": {},
   "outputs": [
    {
     "name": "stdout",
     "output_type": "stream",
     "text": [
      "Running command:\n",
      "\tpython DVC_exercise.py classify preprocessed.jpg result.json\n",
      "Saving 'result.json' to '.dvc/cache/c7/d4ca78a77357d89789d675ea96d969'.\n",
      "Saving information to 'classify.dvc'.\n",
      "\u001b[0m"
     ]
    }
   ],
   "source": [
    "!dvc run -f classify.dvc -d DVC_exercise.py -d preprocessed.jpg -o result.json \\\n",
    "         python DVC_exercise.py classify preprocessed.jpg result.json"
   ]
  },
  {
   "cell_type": "markdown",
   "metadata": {},
   "source": [
    "#### Define third pipeline stage\n",
    "Tip: Don't specify the name of the .dvc file in the last stage. DVC will then use the default name DVCfile, which is handy for later reproduction."
   ]
  },
  {
   "cell_type": "code",
   "execution_count": 69,
   "metadata": {},
   "outputs": [
    {
     "name": "stdout",
     "output_type": "stream",
     "text": [
      "Running command:\n",
      "\tcat deployment_location | xargs -I% cp result.json %\n",
      "Saving information to 'Dvcfile'.\n",
      "\u001b[0m"
     ]
    }
   ],
   "source": [
    "!dvc run -d result.json -d deployment_location \\\n",
    "         \"cat deployment_location | xargs -I% cp result.json %\""
   ]
  },
  {
   "cell_type": "markdown",
   "metadata": {},
   "source": [
    "#### Check your pipeline here:"
   ]
  },
  {
   "cell_type": "code",
   "execution_count": 70,
   "metadata": {},
   "outputs": [
    {
     "name": "stdout",
     "output_type": "stream",
     "text": [
      "WARNING: assuming default target 'Dvcfile'.\n",
      "+----------------+ \n",
      "| preprocess.dvc | \n",
      "+----------------+ \n",
      "         *         \n",
      "         *         \n",
      "         *         \n",
      " +--------------+  \n",
      " | classify.dvc |  \n",
      " +--------------+  \n",
      "         *         \n",
      "         *         \n",
      "         *         \n",
      "    +---------+    \n",
      "    | Dvcfile |    \n",
      "    +---------+    \n"
     ]
    }
   ],
   "source": [
    "%%sh\n",
    "dvc pipeline show --ascii"
   ]
  },
  {
   "cell_type": "markdown",
   "metadata": {},
   "source": [
    "#### Modify the deployment location and reproduce the pipeline\n",
    "We want to change our pipeline slightly. Our customer would like the classified fruit to be deployed (copied) to `./output-exercise` now."
   ]
  },
  {
   "cell_type": "code",
   "execution_count": 74,
   "metadata": {},
   "outputs": [],
   "source": [
    "# change desired deployment location\n",
    "!echo output-exercise > deployment_location"
   ]
  },
  {
   "cell_type": "code",
   "execution_count": 73,
   "metadata": {},
   "outputs": [
    {
     "name": "stdout",
     "output_type": "stream",
     "text": [
      "\u001b[33mWARNING\u001b[39m: assuming default target 'Dvcfile'.\n",
      "Stage 'preprocess.dvc' didn't change.\n",
      "Stage 'classify.dvc' didn't change.\n",
      "\u001b[33mWARNING\u001b[39m: Dependency 'deployment_location' of 'Dvcfile' changed because it is 'modified'.\n",
      "\u001b[33mWARNING\u001b[39m: Stage 'Dvcfile' changed.\n",
      "Reproducing 'Dvcfile'\n",
      "Running command:\n",
      "\tcat deployment_location | xargs -I% cp result.json %\n",
      "Saving information to 'Dvcfile'.\n",
      "\u001b[0m"
     ]
    }
   ],
   "source": [
    "!dvc repro"
   ]
  },
  {
   "cell_type": "code",
   "execution_count": 79,
   "metadata": {},
   "outputs": [],
   "source": [
    "# debug code\n",
    "!rm -rf *.dvc"
   ]
  }
 ],
 "metadata": {
  "kernelspec": {
   "display_name": "Python 3",
   "language": "python",
   "name": "python3"
  },
  "language_info": {
   "codemirror_mode": {
    "name": "ipython",
    "version": 3
   },
   "file_extension": ".py",
   "mimetype": "text/x-python",
   "name": "python",
   "nbconvert_exporter": "python",
   "pygments_lexer": "ipython3",
   "version": "3.6.8"
  }
 },
 "nbformat": 4,
 "nbformat_minor": 4
}
