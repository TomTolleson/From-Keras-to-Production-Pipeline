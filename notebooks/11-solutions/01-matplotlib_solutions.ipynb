{
 "cells": [
  {
   "cell_type": "markdown",
   "metadata": {},
   "source": [
    "# Load libraries\n",
    "\n",
    "*** Import the following libraries:\n",
    "\n",
    "- os\n",
    "- opencv\n",
    "- Image from Pillow\n",
    "- numpy as np\n",
    "- pandas as pd\n",
    "- matplotlib.pyplot as plt"
   ]
  },
  {
   "cell_type": "code",
   "execution_count": 18,
   "metadata": {},
   "outputs": [],
   "source": [
    "import os\n",
    "import cv2\n",
    "from PIL import Image\n",
    "import numpy as np\n",
    "import pandas as pd\n",
    "import matplotlib.pyplot as plt\n",
    "%matplotlib inline"
   ]
  },
  {
   "cell_type": "markdown",
   "metadata": {},
   "source": [
    "# Images & OpenCV\n",
    "\n",
    "- Create a list of file names in the 'Banana' directory and\n",
    "- print the first 10:"
   ]
  },
  {
   "cell_type": "code",
   "execution_count": 13,
   "metadata": {},
   "outputs": [
    {
     "data": {
      "text/plain": [
       "['r_182_100.jpg',\n",
       " '135_100.jpg',\n",
       " '249_100.jpg',\n",
       " 'r_283_100.jpg',\n",
       " 'r_193_100.jpg',\n",
       " '126_100.jpg',\n",
       " 'r_134_100.jpg',\n",
       " 'r_10_100.jpg',\n",
       " 'r_112_100.jpg']"
      ]
     },
     "execution_count": 13,
     "metadata": {},
     "output_type": "execute_result"
    }
   ],
   "source": [
    "dirName = \"/keras2production/fruits/Training/Banana\"\n",
    "\n",
    "listOfFile = [item for item in os.listdir(dirName) if not item.startswith('.')]\n",
    "listOfFile[0:9]"
   ]
  },
  {
   "cell_type": "markdown",
   "metadata": {},
   "source": [
    "*** Plot the first image using opencv with the following steps:\n",
    "\n",
    "- read image from file path\n",
    "- get bgr\n",
    "- convert to rgb\n",
    "- show plot"
   ]
  },
  {
   "cell_type": "code",
   "execution_count": 19,
   "metadata": {},
   "outputs": [
    {
     "data": {
      "image/png": "[encoded data removed]",
      "text/plain": [
       "<Figure size 432x288 with 1 Axes>"
      ]
     },
     "metadata": {
      "needs_background": "light"
     },
     "output_type": "display_data"
    }
   ],
   "source": [
    "img = cv2.imread(\"/keras2production/fruits/Training/Banana/r_182_100.jpg\")        \n",
    "b,g,r = cv2.split(img)       # get b,g,r\n",
    "img = cv2.merge([r,g,b])     # switch it to rgb\n",
    "plt.imshow(img)\n",
    "plt.show()"
   ]
  }
 ],
 "metadata": {
  "kernelspec": {
   "display_name": "Python 3",
   "language": "python",
   "name": "python3"
  },
  "language_info": {
   "codemirror_mode": {
    "name": "ipython",
    "version": 3
   },
   "file_extension": ".py",
   "mimetype": "text/x-python",
   "name": "python",
   "nbconvert_exporter": "python",
   "pygments_lexer": "ipython3",
   "version": "3.6.6"
  }
 },
 "nbformat": 4,
 "nbformat_minor": 2
}
