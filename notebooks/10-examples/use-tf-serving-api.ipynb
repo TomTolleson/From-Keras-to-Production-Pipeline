{
 "cells": [
  {
   "cell_type": "code",
   "execution_count": null,
   "metadata": {},
   "outputs": [],
   "source": [
    "import grpc\n",
    "import cv2\n",
    "import numpy as np\n",
    "from tensorflow_serving.apis import prediction_service_pb2_grpc\n",
    "from tensorflow_serving.apis import get_model_metadata_pb2\n",
    "from tensorflow_serving.apis import predict_pb2\n",
    "from tensorflow.contrib.util import make_tensor_proto\n",
    "\n",
    "fruit_list = [\"Apricot\", \"Avocado\", \"Banana\", \"Clementine\", \"Cocos\", \"Kiwi\", \"Lemon\", \"Limes\", \n",
    "              \"Mandarine\", \"Orange\", \"Peach\", \"Pineapple\", \"Plum\", \"Pomegranate\", \"Raspberry\", \"Strawberry\"]"
   ]
  },
  {
   "cell_type": "code",
   "execution_count": null,
   "metadata": {},
   "outputs": [],
   "source": [
    "\"\"\"\n",
    "Die Verbindungsdaten zum TensorFlow-Serving ModelServer\n",
    "\"\"\"\n",
    "channel = grpc.insecure_channel(\"from-keras-to-production-workshop_serving_1:8500\")\n",
    "stub = prediction_service_pb2_grpc.PredictionServiceStub(channel)\n",
    "stub?"
   ]
  },
  {
   "cell_type": "code",
   "execution_count": null,
   "metadata": {},
   "outputs": [],
   "source": [
    "status = get_model_metadata_pb2.GetModelMetadataRequest()\n",
    "status.model_spec.name = 'fruits'\n",
    "status.model_spec.version.value = 4\n",
    "status.metadata_field.append(\"signature_def\")\n",
    "response = stub.GetModelMetadata(status, 10)\n",
    "response?"
   ]
  },
  {
   "cell_type": "code",
   "execution_count": null,
   "metadata": {},
   "outputs": [],
   "source": [
    "request = predict_pb2.PredictRequest()\n",
    "request.model_spec.name = 'fruits'\n",
    "request.model_spec.version.value = 4\n",
    "img = cv2.imread(\"../01-deeplearning/test_images/Banana/Banana_wiki.jpg\").astype(np.float32)\n",
    "img = cv2.resize(img, (20, 20))\n",
    "img = img / 255\n",
    "x, y, c = img.shape\n",
    "proto = make_tensor_proto(img, shape=[1, x, y, c])\n",
    "request.inputs['input'].CopyFrom(proto)\n",
    "result = stub.Predict(request)  # 10 secs timeout\n",
    "result?"
   ]
  },
  {
   "cell_type": "code",
   "execution_count": null,
   "metadata": {},
   "outputs": [],
   "source": [
    "prediction = result.outputs['prediction'].float_val\n",
    "max_value = max(prediction)\n",
    "max_index = np.argmax(prediction)\n",
    "print(fruit_list[max_index], max_value)"
   ]
  }
 ],
 "metadata": {
  "kernelspec": {
   "display_name": "Python 3",
   "language": "python",
   "name": "python3"
  },
  "language_info": {
   "codemirror_mode": {
    "name": "ipython",
    "version": 3
   },
   "file_extension": ".py",
   "mimetype": "text/x-python",
   "name": "python",
   "nbconvert_exporter": "python",
   "pygments_lexer": "ipython3",
   "version": "3.6.8"
  }
 },
 "nbformat": 4,
 "nbformat_minor": 4
}
